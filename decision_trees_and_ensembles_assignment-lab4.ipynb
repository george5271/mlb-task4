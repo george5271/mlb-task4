{
 "cells": [
  {
   "cell_type": "markdown",
   "metadata": {
    "id": "s-RzEZEBR10z"
   },
   "source": [
    "# Основы машинного обучения: лабораторная работа №4\n",
    "## Деревья решений и ансамблевые методы\n",
    "\n",
    "В этой лабораторной работе вам предстоит реализовать с нуля алгоритм дерева решений, а затем применить и сравнить различные ансамблевые методы, доступные в библиотеке `scikit-learn`.\n",
    "\n",
    "### Цель\n",
    "\n",
    "- Изучить теоретические основы и получить практические навыки реализации деревьев решений.\n",
    "- Освоить применение ансамблевых методов (бэггинг, бустинг) для решения задачи классификации.\n",
    "- Научиться сравнивать и анализировать производительность различных моделей машинного обучения.\n",
    "\n",
    "### Оценивание и баллы\n",
    "\n",
    "За это задание в общей сложности можно получить **до 10 баллов**. Баллы распределяются по задачам, как описано в ячейках ниже. Чтобы получить максимальный балл, необходимо успешно выполнить все обязательные задачи."
   ]
  },
  {
   "cell_type": "markdown",
   "metadata": {
    "id": "YhdhwvrCw9c5"
   },
   "source": [
    "***\n",
    "### Задачи\n",
    "\n",
    "#### 1. Определить номер варианта\n",
    "Перейдите по ссылке из личного кабинета на Google Таблицу со списком студентов. Найдите свое ФИО в списке и запомните соответствующий порядковый номер (поле № п/п) в первом столбце. Заполните его в ячейке ниже и выполните ячейку. Если вы не можете найти себя в списке, обратитесь к своему преподавателю."
   ]
  },
  {
   "cell_type": "code",
   "execution_count": null,
   "metadata": {
    "id": "l8k1q37Ww9c5"
   },
   "outputs": [],
   "source": [
    "# TODO: Впишите свой номер по списку (STUDENT_ID)\n",
    "STUDENT_ID = None"
   ]
  },
  {
   "cell_type": "markdown",
   "metadata": {
    "id": "cI8EZ9E6w9c5"
   },
   "source": [
    "Теперь выполните следующую ячейку. Она определит ваш вариант задания и выведет его."
   ]
  },
  {
   "cell_type": "code",
   "execution_count": null,
   "metadata": {
    "id": "JzKTd-a1w9c6",
    "outputId": "3d665890-2340-49f3-9e13-62cb665ae78c",
    "colab": {
     "base_uri": "https://localhost:8080/"
    }
   },
   "outputs": [],
   "source": [
    "import pandas as pd\n",
    "\n",
    "if STUDENT_ID is None:\n",
    "    print(\"ОШИБКА! Не указан порядковый номер студента в списке группы.\")\n",
    "else:\n",
    "    variants = pd.DataFrame([\n",
    "        {\"Dataset\": \"Прогнозирование оттока клиентов банка\", \"Dataset URL\": \"shubhammeshram579/bank-customer-churn-prediction\", \"Tree Algo\": \"ID3\", \"Bagging Algo\": \"RandomForestClassifier\", \"Boosting Algo\": \"AdaBoostClassifier\"},\n",
    "        {\"Dataset\": \"Прогнозирование инсульта\", \"Dataset URL\": \"fedesoriano/stroke-prediction-dataset\", \"Tree Algo\": \"C4.5\", \"Bagging Algo\": \"BaggingClassifier\", \"Boosting Algo\": \"GradientBoostingClassifier\"},\n",
    "        {\"Dataset\": \"Качество красного вина\", \"Dataset URL\": \"uciml/red-wine-quality-cortez-et-al-2009\", \"Tree Algo\": \"ID3\", \"Bagging Algo\": \"RandomForestClassifier\", \"Boosting Algo\": \"XGBoost\"},\n",
    "        {\"Dataset\": \"Прогнозирование сердечной недостаточности\", \"Dataset URL\": \"fedesoriano/heart-failure-prediction\", \"Tree Algo\": \"C4.5\", \"Bagging Algo\": \"ExtraTreesClassifier\", \"Boosting Algo\": \"CatBoost\"},\n",
    "        {\"Dataset\": \"Набор данных о курении\", \"Dataset URL\": \"kukuroo3/body-signal-of-smoking\", \"Tree Algo\": \"ID3\", \"Bagging Algo\": \"BaggingClassifier\", \"Boosting Algo\": \"AdaBoostClassifier\"},\n",
    "        {\"Dataset\": \"Удержание клиентов телеком-оператора\", \"Dataset URL\": \"blastchar/telco-customer-churn\", \"Tree Algo\": \"C4.5\", \"Bagging Algo\": \"RandomForestClassifier\", \"Boosting Algo\": \"GradientBoostingClassifier\"},\n",
    "        {\"Dataset\": \"Покупка в социальных сетях\", \"Dataset URL\": \"rakeshpanigrahi/social-network-ads\", \"Tree Algo\": \"ID3\", \"Bagging Algo\": \"ExtraTreesClassifier\", \"Boosting Algo\": \"XGBoost\"},\n",
    "        {\"Dataset\": \"Оценка риска по кредиту\", \"Dataset URL\": \"uciml/german-credit\", \"Tree Algo\": \"C4.5\", \"Bagging Algo\": \"BaggingClassifier\", \"Boosting Algo\": \"CatBoost\"},\n",
    "        {\"Dataset\": \"Прогнозирование диабета\", \"Dataset URL\": \"uciml/pima-indians-diabetes-database\", \"Tree Algo\": \"ID3\", \"Bagging Algo\": \"RandomForestClassifier\", \"Boosting Algo\": \"AdaBoostClassifier\"},\n",
    "        {\"Dataset\": \"Обнаружение мошенничества с онлайн-платежами\", \"Dataset URL\": \"rupakroy/online-payments-fraud-detection-dataset\", \"Tree Algo\": \"C4.5\", \"Bagging Algo\": \"BaggingClassifier\", \"Boosting Algo\": \"GradientBoostingClassifier\"},\n",
    "    ])\n",
    "    variant = variants.iloc[STUDENT_ID % len(variants)]\n",
    "    print(f\"Ваш вариант: {STUDENT_ID % len(variants) + 1}\")\n",
    "    print(f\"\\nДатасет: {variant['Dataset']}\")\n",
    "    print(f\"URL для Kaggle API: {variant['Dataset URL']}\")\n",
    "    print(f\"\\nЧасть 1. Алгоритм дерева для реализации: {variant['Tree Algo']}\")\n",
    "    print(f\"Часть 2. Алгоритмы для сравнения:\")\n",
    "    print(f\"  - Бэггинг: {variant['Bagging Algo']}\")\n",
    "    print(f\"  - Бустинг: {variant['Boosting Algo']}\")"
   ]
  },
  {
   "cell_type": "markdown",
   "metadata": {
    "id": "6wtVjnqUw9c6"
   },
   "source": [
    "#### 2. Загрузка и подготовка данных\n",
    "\n",
    "Для загрузки датасета из Kaggle рекомендуется использовать Kaggle API. Это избавит вас от необходимости скачивать файлы вручную.\n",
    "\n",
    "**Инструкция по настройке Kaggle API в Google Colab:**\n",
    "1.  Зайдите в свой профиль на Kaggle, перейдите в раздел `Account`.\n",
    "2.  Нажмите на кнопку `Create New API Token`. На ваш компьютер скачается файл `kaggle.json`.\n",
    "3.  Выполните ячейку с кодом ниже. Она предложит вам загрузить файл. Выберите скачанный `kaggle.json`.\n",
    "4.  После этого вы сможете скачивать датасеты с помощью команд `!kaggle datasets download ...`."
   ]
  },
  {
   "cell_type": "code",
   "execution_count": null,
   "metadata": {},
   "outputs": [],
   "source": [
    "from google.colab import files\n",
    "import os\n",
    "\n",
    "# Загружаем файл kaggle.json\n",
    "if not os.path.exists('/root/.kaggle/kaggle.json'):\n",
    "    uploaded = files.upload()\n",
    "    for fn in uploaded.keys():\n",
    "        print('User uploaded file \"{name}\" with length {length} bytes'.format(\n",
    "            name=fn, length=len(uploaded[fn])))\n",
    "    # Создаем папку и перемещаем в нее файл\n",
    "    !mkdir -p ~/.kaggle\n",
    "    !mv kaggle.json ~/.kaggle/\n",
    "    !chmod 600 ~/.kaggle/kaggle.json\n",
    "    print(\"Kaggle API token successfully set up.\")\n",
    "else:\n",
    "    print(\"Kaggle API token already exists.\")"
   ]
  },
  {
   "cell_type": "markdown",
   "metadata": {
    "id": "nrsth8kTw9c6"
   },
   "source": [
    "Теперь, используя URL для Kaggle API из вашего варианта, скачайте и распакуйте датасет. Загрузите данные в DataFrame библиотеки Pandas."
   ]
  },
  {
   "cell_type": "code",
   "execution_count": null,
   "metadata": {
    "id": "R_QmxpB5w9c6"
   },
   "outputs": [],
   "source": [
    "# TODO: Замените <dataset-url> на URL из вашего варианта\n",
    "KAGGLE_DATASET_URL = variant['Dataset URL']\n",
    "\n",
    "!kaggle datasets download -d {KAGGLE_DATASET_URL}\n",
    "\n",
    "# TODO: Распакуйте скачанный zip-архив (название может отличаться)\n",
    "# !unzip <archive_name>.zip\n",
    "\n",
    "# TODO: Загрузите данные в DataFrame\n",
    "# dataset = pd.read_csv('<file_name>.csv')"
   ]
  },
  {
   "cell_type": "markdown",
   "metadata": {
    "id": "l0lLa-xiR101"
   },
   "source": [
    "#### 3. Анализ и предварительная обработка данных (1 балл)\n",
    "\n",
    "Прежде чем строить модели, необходимо изучить данные. Проведите базовый анализ:\n",
    "\n",
    "1.  **Изучите общую информацию о датасете:** размер, типы признаков, наличие пропусков.\n",
    "2.  **Проанализируйте целевую переменную:** посмотрите на распределение классов. Является ли выборка сбалансированной?\n",
    "3.  **Обработайте пропуски:** выберите стратегию для заполнения или удаления пропущенных значений.\n",
    "4.  **Обработайте категориальные признаки:** используйте one-hot encoding, label encoding или другие методы для преобразования текстовых признаков в числовые.\n",
    "5.  **Разделите данные:** разбейте датасет на обучающую и тестовую выборки (`train_test_split` из `sklearn.model_selection`).\n",
    "6.  **Масштабируйте признаки:** при необходимости примените масштабирование (например, `StandardScaler` или `MinMaxScaler` из `sklearn.preprocessing`).\n",
    "\n",
    "В ячейках ниже выполните необходимые шаги и напишите краткие выводы по каждому пункту."
   ]
  },
  {
   "cell_type": "code",
   "execution_count": null,
   "metadata": {
    "id": "ujitZUYeR101"
   },
   "outputs": [],
   "source": [
    "### BEGIN YOUR CODE\n",
    "\n",
    "# Общая информация\n",
    "\n",
    "\n",
    "# Анализ целевой переменной\n",
    "\n",
    "\n",
    "# Обработка пропусков\n",
    "\n",
    "\n",
    "# Обработка категориальных признаков\n",
    "\n",
    "\n",
    "# Разделение на обучающую и тестовую выборки\n",
    "\n",
    "\n",
    "# Масштабирование признаков (если необходимо)\n",
    "\n",
    "\n",
    "### END YOUR CODE"
   ]
  },
  {
   "cell_type": "markdown",
   "metadata": {
    "id": "FGsJ_-hMXjSs"
   },
   "source": [
    "**Выводы по анализу и предобработке:**\n",
    "\n",
    "*Здесь должен быть ваш текст с выводами по каждому шагу предобработки.*"
   ]
  },
  {
   "cell_type": "markdown",
   "metadata": {
    "id": "Xfw6nVzoR104"
   },
   "source": [
    "---\n",
    "### Часть 1: Реализация дерева решений (4 балла)\n",
    "\n",
    "В этой части вам предстоит реализовать алгоритм построения дерева решений для задачи классификации с нуля, используя только `NumPy`. \n",
    "\n",
    "**Критерий разделения:**\n",
    "-   Если ваш алгоритм - **ID3**, используйте **Information Gain**.\n",
    "-   Если ваш алгоритм - **C4.5**, используйте **Gain Ratio**.\n",
    "\n",
    "Вам нужно будет реализовать две основные сущности:\n",
    "1.  `Node` — узел дерева.\n",
    "2.  `DecisionTreeClassifier` — сам классификатор."
   ]
  },
  {
   "cell_type": "code",
   "execution_count": null,
   "metadata": {
    "id": "KI2IIJdHR104"
   },
   "outputs": [],
   "source": [
    "import numpy as np\n",
    "\n",
    "class Node:\n",
    "    \"\"\"Класс, представляющий узел в дереве решений.\"\"\"\n",
    "    def __init__(self, feature=None, threshold=None, left=None, right=None, *, value=None):\n",
    "        \"\"\"\n",
    "        Args:\n",
    "            feature (int): Индекс признака для разделения.\n",
    "            threshold (float): Пороговое значение для разделения.\n",
    "            left (Node): Левый дочерний узел (для значений <= threshold).\n",
    "            right (Node): Правый дочерний узел (для значений > threshold).\n",
    "            value (int): Значение класса (если узел является листом).\n",
    "        \"\"\"\n",
    "        self.feature = feature\n",
    "        self.threshold = threshold\n",
    "        self.left = left\n",
    "        self.right = right\n",
    "        self.value = value\n",
    "\n",
    "    def is_leaf_node(self):\n",
    "        \"\"\"Проверяет, является ли узел листовым.\"\"\"\n",
    "        return self.value is not None"
   ]
  },
  {
   "cell_type": "code",
   "execution_count": null,
   "metadata": {
    "id": "XOhAxyK1R107"
   },
   "outputs": [],
   "source": [
    "# Внимание: нельзя использовать готовые реализации деревьев решений!\n",
    "\n",
    "class DecisionTreeClassifier:\n",
    "    \"\"\"Классификатор на основе дерева решений.\"\"\"\n",
    "    def __init__(self, min_samples_split=2, max_depth=100, n_feats=None, criterion='id3'):\n",
    "        self.min_samples_split = min_samples_split\n",
    "        self.max_depth = max_depth\n",
    "        self.n_feats = n_feats\n",
    "        self.root = None\n",
    "        self.criterion = criterion # 'id3' for Information Gain, 'c4.5' for Gain Ratio\n",
    "\n",
    "    def fit(self, X, y):\n",
    "        \"\"\"Обучает дерево решений.\"\"\"\n",
    "        # Убедимся, что X и y - это numpy массивы\n",
    "        X = np.array(X)\n",
    "        y = np.array(y)\n",
    "        self.n_feats = X.shape[1] if not self.n_feats else min(self.n_feats, X.shape[1])\n",
    "        self.root = self._grow_tree(X, y)\n",
    "\n",
    "    def predict(self, X):\n",
    "        \"\"\"Делает предсказания для новых данных.\"\"\"\n",
    "        X = np.array(X)\n",
    "        return np.array([self._traverse_tree(x, self.root) for x in X])\n",
    "\n",
    "    def _grow_tree(self, X, y, depth=0):\n",
    "        \"\"\"Рекурсивно строит дерево.\"\"\"\n",
    "        n_samples, n_features = X.shape\n",
    "        n_labels = len(np.unique(y))\n",
    "\n",
    "        # Критерии остановки\n",
    "        if (depth >= self.max_depth or n_labels == 1 or n_samples < self.min_samples_split):\n",
    "            leaf_value = self._most_common_label(y)\n",
    "            return Node(value=leaf_value)\n",
    "\n",
    "        feat_idxs = np.random.choice(n_features, self.n_feats, replace=False)\n",
    "\n",
    "        # Находим лучшее разделение\n",
    "        best_feat, best_thresh = self._best_criteria(X, y, feat_idxs)\n",
    "\n",
    "        # Разделяем данные\n",
    "        left_idxs, right_idxs = self._split(X[:, best_feat], best_thresh)\n",
    "        left = self._grow_tree(X[left_idxs, :], y[left_idxs], depth + 1)\n",
    "        right = self._grow_tree(X[right_idxs, :], y[right_idxs], depth + 1)\n",
    "        return Node(best_feat, best_thresh, left, right)\n",
    "\n",
    "    def _best_criteria(self, X, y, feat_idxs):\n",
    "        \"\"\"Выбирает лучший признак и порог для разделения.\"\"\"\n",
    "        best_gain = -1\n",
    "        split_idx, split_thresh = None, None\n",
    "        for feat_idx in feat_idxs:\n",
    "            X_column = X[:, feat_idx]\n",
    "            thresholds = np.unique(X_column)\n",
    "            for threshold in thresholds:\n",
    "                if self.criterion == 'id3':\n",
    "                    gain = self._information_gain(y, X_column, threshold)\n",
    "                elif self.criterion == 'c4.5':\n",
    "                    gain = self._gain_ratio(y, X_column, threshold)\n",
    "                else:\n",
    "                    raise ValueError(\"Критерий должен быть 'id3' или 'c4.5'\")\n",
    "\n",
    "                if gain > best_gain:\n",
    "                    best_gain = gain\n",
    "                    split_idx = feat_idx\n",
    "                    split_thresh = threshold\n",
    "        return split_idx, split_thresh\n",
    "\n",
    "    def _information_gain(self, y, X_column, split_thresh):\n",
    "        \"\"\"Вычисляет Information Gain.\"\"\"\n",
    "        # TODO: Реализуйте эту функцию (2 балла)\n",
    "        ### BEGIN YOUR CODE\n",
    "\n",
    "        return 0\n",
    "    \n",
    "        ### END YOUR CODE\n",
    "\n",
    "    def _gain_ratio(self, y, X_column, split_thresh):\n",
    "        \"\"\"Вычисляет Gain Ratio.\"\"\"\n",
    "        # TODO: Реализуйте эту функцию (2 балла)\n",
    "        ### BEGIN YOUR CODE\n",
    "        \n",
    "        return 0\n",
    "    \n",
    "        ### END YOUR CODE\n",
    "    \n",
    "    def _entropy(self, y):\n",
    "        \"\"\"Вычисляет энтропию.\"\"\"\n",
    "        # TODO: Реализуйте эту вспомогательную функцию\n",
    "        ### BEGIN YOUR CODE\n",
    "        \n",
    "        return 0\n",
    "    \n",
    "        ### END YOUR CODE\n",
    "        \n",
    "    def _split_info(self, y, X_column, split_thresh):\n",
    "        \"\"\"Вычисляет Split Information для Gain Ratio.\"\"\"\n",
    "        # TODO: Реализуйте эту вспомогательную функцию\n",
    "        ### BEGIN YOUR CODE\n",
    "        \n",
    "        return 1 # Возвращаем 1, чтобы избежать деления на ноль, если не реализовано\n",
    "    \n",
    "        ### END YOUR CODE\n",
    "\n",
    "    def _split(self, X_column, split_thresh):\n",
    "        \"\"\"Разделяет данные по порогу.\"\"\"\n",
    "        left_idxs = np.argwhere(X_column <= split_thresh).flatten()\n",
    "        right_idxs = np.argwhere(X_column > split_thresh).flatten()\n",
    "        return left_idxs, right_idxs\n",
    "\n",
    "    def _traverse_tree(self, x, node):\n",
    "        \"\"\"Проходит по дереву для предсказания одного сэмпла.\"\"\"\n",
    "        if node.is_leaf_node():\n",
    "            return node.value\n",
    "\n",
    "        if x[node.feature] <= node.threshold:\n",
    "            return self._traverse_tree(x, node.left)\n",
    "        return self._traverse_tree(x, node.right)\n",
    "\n",
    "    def _most_common_label(self, y):\n",
    "        \"\"\"Находит самый частый класс в наборе данных.\"\"\"\n",
    "        unique, counts = np.unique(y, return_counts=True)\n",
    "        return unique[np.argmax(counts)]"
   ]
  },
  {
   "cell_type": "markdown",
   "metadata": {
    "id": "9mbKbih2R109"
   },
   "source": [
    "Теперь обучите свой классификатор на обучающей выборке и оцените его качество на тестовой. Рассчитайте метрику **Accuracy**."
   ]
  },
  {
   "cell_type": "code",
   "execution_count": null,
   "metadata": {
    "id": "sBdljd94R109"
   },
   "outputs": [],
   "source": [
    "from sklearn.metrics import accuracy_score\n",
    "\n",
    "# TODO: Создайте и обучите экземпляр вашего классификатора\n",
    "# Установите criterion='id3' или 'c4.5' в зависимости от вашего варианта\n",
    "### BEGIN YOUR CODE\n",
    "\n",
    "custom_tree_accuracy = 0\n",
    "\n",
    "### END YOUR CODE\n",
    "print(f\"Точность (Accuracy) вашего дерева решений: {custom_tree_accuracy:.4f}\")"
   ]
  },
  {
   "cell_type": "markdown",
   "metadata": {
    "id": "_OSBr-iNR10_"
   },
   "source": [
    "---\n",
    "### Часть 2: Применение и сравнение ансамблевых методов (3 балла)\n",
    "\n",
    "Теперь воспользуемся готовыми реализациями из `scikit-learn` для применения ансамблевых методов.\n",
    "\n",
    "1.  Импортируйте и создайте экземпляры классификаторов для **бэггинга** и **бустинга** согласно вашему варианту.\n",
    "2.  Обучите обе модели на **обучающей** выборке.\n",
    "3.  Сделайте предсказания на **тестовой** выборке.\n",
    "4.  Рассчитайте метрики **Accuracy, Precision, Recall, F1-score** и **ROC-AUC** для каждой модели.\n",
    "5.  Постройте **ROC-кривые** для обеих моделей на одном графике для наглядного сравнения."
   ]
  },
  {
   "cell_type": "code",
   "execution_count": null,
   "metadata": {
    "id": "X4t5jNtbR11B"
   },
   "outputs": [],
   "source": [
    "from sklearn.ensemble import RandomForestClassifier, BaggingClassifier, ExtraTreesClassifier, AdaBoostClassifier, GradientBoostingClassifier\n",
    "# Для XGBoost и CatBoost может потребоваться !pip install xgboost catboost\n",
    "# from xgboost import XGBClassifier\n",
    "# from catboost import CatBoostClassifier\n",
    "\n",
    "from sklearn.metrics import accuracy_score, precision_score, recall_score, f1_score, roc_auc_score, roc_curve\n",
    "import matplotlib.pyplot as plt\n",
    "\n",
    "# TODO: Создайте экземпляры моделей бэггинга и бустинга согласно варианту\n",
    "### BEGIN YOUR CODE\n",
    "\n",
    "bagging_model = None # Например: RandomForestClassifier(random_state=42)\n",
    "boosting_model = None # Например: GradientBoostingClassifier(random_state=42)\n",
    "\n",
    "# Обучение моделей\n",
    "\n",
    "\n",
    "# Предсказания\n",
    "\n",
    "\n",
    "# Расчет метрик\n",
    "\n",
    "\n",
    "# Построение ROC-кривых\n",
    "\n",
    "\n",
    "### END YOUR CODE"
   ]
  },
  {
   "cell_type": "markdown",
   "metadata": {
    "id": "m5el9T4eR11D"
   },
   "source": [
    "**Сравнение моделей:**\n",
    "\n",
    "*Проанализируйте полученные метрики и ROC-кривые. Какая модель показала себя лучше на вашем датасете? Почему, на ваш взгляд? Свяжите свои выводы с особенностями алгоритмов (например, как они работают с выбросами, сложными зависимостями, несбалансированными классами и т.д.).*"
   ]
  },
  {
   "cell_type": "markdown",
   "metadata": {
    "id": "vmaBPxD_R11G"
   },
   "source": [
    "---\n",
    "#### 8. Опишите полученные результаты (1 балл)"
   ]
  },
  {
   "cell_type": "markdown",
   "metadata": {
    "id": "zI7TNvZsR11H"
   },
   "source": [
    "Напишите краткие выводы объемом в один абзац, ориентированные на нетехническую аудиторию (например, на вашего менеджера или начальника). Сосредоточьтесь на следующих вопросах:\n",
    "\n",
    "- Какое из решений (ваше дерево, бэггинг, бустинг) вы бы порекомендовали для решения бизнес-задачи?\n",
    "- Каковы основные результаты и что они означают на практике (например, \"наша модель с точностью 95% определяет потенциально мошеннические транзакции\")?\n",
    "- Какие дальнейшие шаги по улучшению модели вы бы предложили?"
   ]
  },
  {
   "cell_type": "markdown",
   "metadata": {
    "id": "CtMU8QhXPFK8"
   },
   "source": [
    "**Выводы для нетехнической аудитории:**\n",
    "\n",
    "*Здесь должен быть ваш текст.*"
   ]
  },
  {
   "cell_type": "markdown",
   "metadata": {
    "id": "I1vTd45lR11J"
   },
   "source": [
    "---\n",
    "### Нужна помощь?"
   ]
  },
  {
   "cell_type": "markdown",
   "metadata": {
    "id": "ionUS2eLR11K"
   },
   "source": [
    "Если у вас возникли трудности при выполнении задания, попробуйте следующие решения:\n",
    "\n",
    "- Посмотрите слайды к лекциям по деревьям решений и ансамблевым методам. Слайды можно найти в личном кабинете или в ТГ-канале курса.\n",
    "- Задайте вопрос преподавателю в ТГ-канале курса.\n",
    "- Задайте вопрос преподавателю лично в университете."
   ]
  }
 ],
 "metadata": {
  "colab": {
   "provenance": []
  },
  "kernelspec": {
   "display_name": "Python 3",
   "language": "python",
   "name": "python3"
  },
  "language_info": {
   "codemirror_mode": {
    "name": "ipython",
    "version": 3
   },
   "file_extension": ".py",
   "mimetype": "text/x-python",
   "name": "python",
   "nbconvert_exporter": "python",
   "pygments_lexer": "ipython3",
   "version": "3.9.12"
  }
 },
 "nbformat": 4,
 "nbformat_minor": 0
}
