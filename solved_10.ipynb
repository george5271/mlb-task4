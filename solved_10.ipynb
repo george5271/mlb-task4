{
  "cells": [
    {
      "cell_type": "markdown",
      "metadata": {
        "id": "view-in-github",
        "colab_type": "text"
      },
      "source": [
        "<a href=\"https://colab.research.google.com/github/george5271/mlb-task4/blob/main/solved_10.ipynb\" target=\"_parent\"><img src=\"https://colab.research.google.com/assets/colab-badge.svg\" alt=\"Open In Colab\"/></a>"
      ]
    },
    {
      "cell_type": "markdown",
      "metadata": {
        "id": "s-RzEZEBR10z"
      },
      "source": [
        "# Основы машинного обучения: лабораторная работа №4\n",
        "## Деревья решений и ансамблевые методы\n",
        "\n",
        "В этой лабораторной работе вам предстоит реализовать с нуля алгоритм дерева решений, а затем применить и сравнить различные ансамблевые методы, доступные в библиотеке `scikit-learn`.\n",
        "\n",
        "### Цель\n",
        "\n",
        "- Изучить теоретические основы и получить практические навыки реализации деревьев решений.\n",
        "- Освоить применение ансамблевых методов (бэггинг, бустинг) для решения задачи классификации.\n",
        "- Научиться сравнивать и анализировать производительность различных моделей машинного обучения.\n",
        "\n",
        "### Оценивание и баллы\n",
        "\n",
        "За это задание в общей сложности можно получить **до 10 баллов**. Баллы распределяются по задачам, как описано в ячейках ниже. Чтобы получить максимальный балл, необходимо успешно выполнить все обязательные задачи."
      ]
    },
    {
      "cell_type": "markdown",
      "metadata": {
        "id": "YhdhwvrCw9c5"
      },
      "source": [
        "***\n",
        "### Задачи\n",
        "\n",
        "#### 1. Определить номер варианта\n",
        "Перейдите по ссылке из личного кабинета на Google Таблицу со списком студентов. Найдите свое ФИО в списке и запомните соответствующий порядковый номер (поле № п/п) в первом столбце. Заполните его в ячейке ниже и выполните ячейку. Если вы не можете найти себя в списке, обратитесь к своему преподавателю."
      ]
    },
    {
      "cell_type": "code",
      "execution_count": 10,
      "metadata": {
        "id": "l8k1q37Ww9c5"
      },
      "outputs": [],
      "source": [
        "# TODO: Впишите свой номер по списку (STUDENT_ID)\n",
        "STUDENT_ID = 10"
      ]
    },
    {
      "cell_type": "markdown",
      "metadata": {
        "id": "cI8EZ9E6w9c5"
      },
      "source": [
        "Теперь выполните следующую ячейку. Она определит ваш вариант задания и выведет его."
      ]
    },
    {
      "cell_type": "code",
      "execution_count": 11,
      "metadata": {
        "id": "JzKTd-a1w9c6",
        "outputId": "c79af59a-a859-4948-f41a-e11cf495af91",
        "colab": {
          "base_uri": "https://localhost:8080/"
        }
      },
      "outputs": [
        {
          "output_type": "stream",
          "name": "stdout",
          "text": [
            "Ваш вариант: 10\n",
            "\n",
            "Датасет: Обнаружение мошенничества с онлайн-платежами\n",
            "URL для Kaggle API: rupakroy/online-payments-fraud-detection-dataset\n",
            "\n",
            "Часть 1. Алгоритм дерева для реализации: C4.5\n",
            "Часть 2. Алгоритмы для сравнения:\n",
            "  - Бэггинг: BaggingClassifier\n",
            "  - Бустинг: GradientBoostingClassifier\n"
          ]
        }
      ],
      "source": [
        "import pandas as pd\n",
        "\n",
        "if STUDENT_ID is None:\n",
        "    print(\"ОШИБКА! Не указан порядковый номер студента в списке группы.\")\n",
        "else:\n",
        "    variants = pd.DataFrame([\n",
        "        {\"Dataset\": \"Прогнозирование оттока клиентов банка\", \"Dataset URL\": \"shubhammeshram579/bank-customer-churn-prediction\", \"Tree Algo\": \"ID3\", \"Bagging Algo\": \"RandomForestClassifier\", \"Boosting Algo\": \"AdaBoostClassifier\"},\n",
        "        {\"Dataset\": \"Прогнозирование инсульта\", \"Dataset URL\": \"fedesoriano/stroke-prediction-dataset\", \"Tree Algo\": \"C4.5\", \"Bagging Algo\": \"BaggingClassifier\", \"Boosting Algo\": \"GradientBoostingClassifier\"},\n",
        "        {\"Dataset\": \"Качество красного вина\", \"Dataset URL\": \"uciml/red-wine-quality-cortez-et-al-2009\", \"Tree Algo\": \"ID3\", \"Bagging Algo\": \"RandomForestClassifier\", \"Boosting Algo\": \"XGBoost\"},\n",
        "        {\"Dataset\": \"Прогнозирование сердечной недостаточности\", \"Dataset URL\": \"fedesoriano/heart-failure-prediction\", \"Tree Algo\": \"C4.5\", \"Bagging Algo\": \"ExtraTreesClassifier\", \"Boosting Algo\": \"CatBoost\"},\n",
        "        {\"Dataset\": \"Набор данных о курении\", \"Dataset URL\": \"kukuroo3/body-signal-of-smoking\", \"Tree Algo\": \"ID3\", \"Bagging Algo\": \"BaggingClassifier\", \"Boosting Algo\": \"AdaBoostClassifier\"},\n",
        "        {\"Dataset\": \"Удержание клиентов телеком-оператора\", \"Dataset URL\": \"blastchar/telco-customer-churn\", \"Tree Algo\": \"C4.5\", \"Bagging Algo\": \"RandomForestClassifier\", \"Boosting Algo\": \"GradientBoostingClassifier\"},\n",
        "        {\"Dataset\": \"Покупка в социальных сетях\", \"Dataset URL\": \"rakeshpanigrahi/social-network-ads\", \"Tree Algo\": \"ID3\", \"Bagging Algo\": \"ExtraTreesClassifier\", \"Boosting Algo\": \"XGBoost\"},\n",
        "        {\"Dataset\": \"Оценка риска по кредиту\", \"Dataset URL\": \"uciml/german-credit\", \"Tree Algo\": \"C4.5\", \"Bagging Algo\": \"BaggingClassifier\", \"Boosting Algo\": \"CatBoost\"},\n",
        "        {\"Dataset\": \"Прогнозирование диабета\", \"Dataset URL\": \"uciml/pima-indians-diabetes-database\", \"Tree Algo\": \"ID3\", \"Bagging Algo\": \"RandomForestClassifier\", \"Boosting Algo\": \"AdaBoostClassifier\"},\n",
        "        {\"Dataset\": \"Обнаружение мошенничества с онлайн-платежами\", \"Dataset URL\": \"rupakroy/online-payments-fraud-detection-dataset\", \"Tree Algo\": \"C4.5\", \"Bagging Algo\": \"BaggingClassifier\", \"Boosting Algo\": \"GradientBoostingClassifier\"},\n",
        "    ])\n",
        "    variant_index = (STUDENT_ID - 1) % len(variants)\n",
        "    variant = variants.iloc[variant_index]\n",
        "    print(f\"Ваш вариант: {variant_index + 1}\")\n",
        "    print(f\"\\nДатасет: {variant['Dataset']}\")\n",
        "    print(f\"URL для Kaggle API: {variant['Dataset URL']}\")\n",
        "    print(f\"\\nЧасть 1. Алгоритм дерева для реализации: {variant['Tree Algo']}\")\n",
        "    print(f\"Часть 2. Алгоритмы для сравнения:\")\n",
        "    print(f\"  - Бэггинг: {variant['Bagging Algo']}\")\n",
        "    print(f\"  - Бустинг: {variant['Boosting Algo']}\")"
      ]
    },
    {
      "cell_type": "markdown",
      "metadata": {
        "id": "6wtVjnqUw9c6"
      },
      "source": [
        "#### 2. Загрузка и подготовка данных\n",
        "\n",
        "Для загрузки датасета из Kaggle рекомендуется использовать Kaggle API. Это избавит вас от необходимости скачивать файлы вручную.\n",
        "\n",
        "**Инструкция по настройке Kaggle API в Google Colab:**\n",
        "1.  Зайдите в свой профиль на Kaggle, перейдите в раздел `Account`.\n",
        "2.  Нажмите на кнопку `Create New API Token`. На ваш компьютер скачается файл `kaggle.json`.\n",
        "3.  Выполните ячейку с кодом ниже. Она предложит вам загрузить файл. Выберите скачанный `kaggle.json`.\n",
        "4.  После этого вы сможете скачивать датасеты с помощью команд `!kaggle datasets download ...`."
      ]
    },
    {
      "cell_type": "code",
      "execution_count": 12,
      "metadata": {
        "id": "KxBsp_vLMYCO",
        "outputId": "37df6623-cb59-4434-a20e-1f43fff30253",
        "colab": {
          "base_uri": "https://localhost:8080/"
        }
      },
      "outputs": [
        {
          "output_type": "stream",
          "name": "stdout",
          "text": [
            "Kaggle API token already exists.\n"
          ]
        }
      ],
      "source": [
        "from google.colab import files\n",
        "import os\n",
        "\n",
        "# Загружаем файл kaggle.json\n",
        "if not os.path.exists('/root/.kaggle/kaggle.json'):\n",
        "    uploaded = files.upload()\n",
        "    for fn in uploaded.keys():\n",
        "        print('User uploaded file \"{name}\" with length {length} bytes'.format(\n",
        "            name=fn, length=len(uploaded[fn])))\n",
        "    # Создаем папку и перемещаем в нее файл\n",
        "    !mkdir -p ~/.kaggle\n",
        "    !mv kaggle.json ~/.kaggle/\n",
        "    !chmod 600 ~/.kaggle/kaggle.json\n",
        "    print(\"Kaggle API token successfully set up.\")\n",
        "else:\n",
        "    print(\"Kaggle API token already exists.\")"
      ]
    },
    {
      "cell_type": "markdown",
      "metadata": {
        "id": "nrsth8kTw9c6"
      },
      "source": [
        "Теперь, используя URL для Kaggle API из вашего варианта, скачайте и распакуйте датасет. Загрузите данные в DataFrame библиотеки Pandas."
      ]
    },
    {
      "cell_type": "code",
      "execution_count": 13,
      "metadata": {
        "id": "R_QmxpB5w9c6",
        "outputId": "7e0f4155-112d-4591-bdef-7b2cd020a457",
        "colab": {
          "base_uri": "https://localhost:8080/"
        }
      },
      "outputs": [
        {
          "output_type": "stream",
          "name": "stdout",
          "text": [
            "Dataset URL: https://www.kaggle.com/datasets/rupakroy/online-payments-fraud-detection-dataset\n",
            "License(s): CC-BY-NC-SA-4.0\n",
            "online-payments-fraud-detection-dataset.zip: Skipping, found more recently modified local copy (use --force to force download)\n",
            "Найден и разархивирован файл: PS_20174392719_1491204439457_log.csv\n",
            "\n",
            "Датасет PS_20174392719_1491204439457_log.csv успешно загружен.\n"
          ]
        }
      ],
      "source": [
        "import zipfile\n",
        "\n",
        "KAGGLE_DATASET_URL = variant['Dataset URL']\n",
        "\n",
        "!kaggle datasets download -d {KAGGLE_DATASET_URL}\n",
        "\n",
        "zip_filename = KAGGLE_DATASET_URL.split('/')[1] + '.zip'\n",
        "\n",
        "csv_filename = None\n",
        "with zipfile.ZipFile(zip_filename, 'r') as z:\n",
        "    for file_info in z.infolist():\n",
        "        if file_info.filename.endswith('.csv'):\n",
        "            csv_filename = file_info.filename\n",
        "            z.extract(csv_filename)\n",
        "            print(f\"Найден и разархивирован файл: {csv_filename}\")\n",
        "            break\n",
        "\n",
        "if csv_filename:\n",
        "    dataset = pd.read_csv(csv_filename)\n",
        "    print(f\"\\nДатасет {csv_filename} успешно загружен.\")\n",
        "else:\n",
        "    print(\"Ошибка: CSV-файл в архиве не найден.\")"
      ]
    },
    {
      "cell_type": "markdown",
      "metadata": {
        "id": "l0lLa-xiR101"
      },
      "source": [
        "#### 3. Анализ и предварительная обработка данных (1 балл)\n",
        "\n",
        "Прежде чем строить модели, необходимо изучить данные. Проведите базовый анализ:\n",
        "\n",
        "1.  **Изучите общую информацию о датасете:** размер, типы признаков, наличие пропусков.\n",
        "2.  **Проанализируйте целевую переменную:** посмотрите на распределение классов. Является ли выборка сбалансированной?\n",
        "3.  **Обработайте пропуски:** выберите стратегию для заполнения или удаления пропущенных значений.\n",
        "4.  **Обработайте категориальные признаки:** используйте one-hot encoding, label encoding или другие методы для преобразования текстовых признаков в числовые.\n",
        "5.  **Разделите данные:** разбейте датасет на обучающую и тестовую выборки (`train_test_split` из `sklearn.model_selection`).\n",
        "6.  **Масштабируйте признаки:** при необходимости примените масштабирование (например, `StandardScaler` или `MinMaxScaler` из `sklearn.preprocessing`).\n",
        "\n",
        "В ячейках ниже выполните необходимые шаги и напишите краткие выводы по каждому пункту."
      ]
    },
    {
      "cell_type": "code",
      "execution_count": 14,
      "metadata": {
        "id": "ujitZUYeR101",
        "outputId": "f7a2a93a-efe6-4a7b-82da-22262ef87e23",
        "colab": {
          "base_uri": "https://localhost:8080/"
        }
      },
      "outputs": [
        {
          "output_type": "stream",
          "name": "stdout",
          "text": [
            "--- Общая информация ---\n",
            "<class 'pandas.core.frame.DataFrame'>\n",
            "RangeIndex: 6362620 entries, 0 to 6362619\n",
            "Data columns (total 11 columns):\n",
            " #   Column          Dtype  \n",
            "---  ------          -----  \n",
            " 0   step            int64  \n",
            " 1   type            object \n",
            " 2   amount          float64\n",
            " 3   nameOrig        object \n",
            " 4   oldbalanceOrg   float64\n",
            " 5   newbalanceOrig  float64\n",
            " 6   nameDest        object \n",
            " 7   oldbalanceDest  float64\n",
            " 8   newbalanceDest  float64\n",
            " 9   isFraud         int64  \n",
            " 10  isFlaggedFraud  int64  \n",
            "dtypes: float64(5), int64(3), object(3)\n",
            "memory usage: 534.0+ MB\n",
            "\n",
            "--- Анализ целевой переменной 'isFraud' ---\n",
            "isFraud\n",
            "0    0.998709\n",
            "1    0.001291\n",
            "Name: proportion, dtype: float64\n",
            "\n",
            "--- Проверка на пропуски ---\n",
            "False\n",
            "\n",
            "--- Размеры выборок после обработки ---\n",
            "Обучающая выборка: (4453834, 11)\n",
            "Тестовая выборка: (1908786, 11)\n"
          ]
        }
      ],
      "source": [
        "from sklearn.model_selection import train_test_split\n",
        "from sklearn.preprocessing import OneHotEncoder\n",
        "from sklearn.compose import ColumnTransformer\n",
        "from scipy.sparse import hstack\n",
        "import numpy as np\n",
        "\n",
        "# 1. Общая информация\n",
        "print(\"--- Общая информация ---\")\n",
        "dataset.info()\n",
        "\n",
        "# 2. Анализ целевой переменной\n",
        "print(\"\\n--- Анализ целевой переменной 'isFraud' ---\")\n",
        "print(dataset['isFraud'].value_counts(normalize=True))\n",
        "\n",
        "# 3. Обработка пропусков - в данном датасете пропусков нет\n",
        "print(\"\\n--- Проверка на пропуски ---\")\n",
        "print(dataset.isnull().sum().any())\n",
        "\n",
        "# 4. Обработка категориальных признаков и неинформативных столбцов\n",
        "X = dataset.drop(['isFraud', 'nameOrig', 'nameDest', 'isFlaggedFraud'], axis=1)\n",
        "y = dataset['isFraud']\n",
        "\n",
        "categorical_features = ['type']\n",
        "numerical_features = X.select_dtypes(include=np.number).columns.tolist()\n",
        "\n",
        "encoder = OneHotEncoder(handle_unknown='ignore', sparse_output=True)\n",
        "preprocessor = ColumnTransformer(transformers=[('cat', encoder, categorical_features)], remainder='passthrough')\n",
        "\n",
        "# 5. Разделение данных\n",
        "X_train, X_test, y_train, y_test = train_test_split(X, y, test_size=0.3, random_state=42, stratify=y)\n",
        "\n",
        "# 6. Масштабирование и кодирование\n",
        "# Применяем OneHotEncoder к категориальным признакам\n",
        "X_train_prepared = preprocessor.fit_transform(X_train)\n",
        "X_test_prepared = preprocessor.transform(X_test)\n",
        "\n",
        "print(\"\\n--- Размеры выборок после обработки ---\")\n",
        "print(f\"Обучающая выборка: {X_train_prepared.shape}\")\n",
        "print(f\"Тестовая выборка: {X_test_prepared.shape}\")"
      ]
    },
    {
      "cell_type": "markdown",
      "metadata": {
        "id": "FGsJ_-hMXjSs"
      },
      "source": [
        "**Выводы по анализу и предобработке:**\n",
        "\n",
        "1.  **Общая информация:** Датасет содержит 6,362,620 записей и 11 признаков, пропусков нет.\n",
        "2.  **Целевая переменная:** Обнаружен сильный дисбаланс классов: мошеннические транзакции составляют всего 0.13%. Это требует использования стратифицированного разделения выборки.\n",
        "3.  **Признаки:** Столбцы `nameOrig` и `nameDest` содержат уникальные идентификаторы и были удалены как неинформативные. `isFlaggedFraud` также удален, так как это флаг, установленный системой, а не исходный признак транзакции.\n",
        "4.  **Категориальные признаки:** Признак `type` был преобразован с помощью `OneHotEncoder`.\n",
        "5.  **Масштабирование:** Для деревьев решений и их ансамблей масштабирование числовых признаков не является критически важным, поэтому на данном этапе оно не применялось для ускорения обработки.\n",
        "6.  **Итог:** Данные разделены на обучающую (70%) и тестовую (30%) выборки с сохранением пропорций классов. Категориальные признаки преобразованы в числовой формат."
      ]
    },
    {
      "cell_type": "markdown",
      "metadata": {
        "id": "Xfw6nVzoR104"
      },
      "source": [
        "---\n",
        "### Часть 1: Реализация дерева решений (4 балла)\n",
        "\n",
        "В этой части вам предстоит реализовать алгоритм построения дерева решений для задачи классификации с нуля, используя только `NumPy`.\n",
        "\n",
        "**Критерий разделения:**\n",
        "-   Если ваш алгоритм - **ID3**, используйте **Information Gain**.\n",
        "-   Если ваш алгоритм - **C4.5**, используйте **Gain Ratio**.\n",
        "\n",
        "Вам нужно будет реализовать две основные сущности:\n",
        "1.  `Node` — узел дерева.\n",
        "2.  `DecisionTreeClassifier` — сам классификатор."
      ]
    },
    {
      "cell_type": "code",
      "execution_count": 15,
      "metadata": {
        "id": "KI2IIJdHR104"
      },
      "outputs": [],
      "source": [
        "import numpy as np\n",
        "\n",
        "class Node:\n",
        "    \"\"\"Класс, представляющий узел в дереве решений.\"\"\"\n",
        "    def __init__(self, feature=None, threshold=None, left=None, right=None, *, value=None):\n",
        "        \"\"\"\n",
        "        Args:\n",
        "            feature (int): Индекс признака для разделения.\n",
        "            threshold (float): Пороговое значение для разделения.\n",
        "            left (Node): Левый дочерний узел (для значений <= threshold).\n",
        "            right (Node): Правый дочерний узел (для значений > threshold).\n",
        "            value (int): Значение класса (если узел является листом).\n",
        "        \"\"\"\n",
        "        self.feature = feature\n",
        "        self.threshold = threshold\n",
        "        self.left = left\n",
        "        self.right = right\n",
        "        self.value = value\n",
        "\n",
        "    def is_leaf_node(self):\n",
        "        \"\"\"Проверяет, является ли узел листовым.\"\"\"\n",
        "        return self.value is not None"
      ]
    },
    {
      "cell_type": "code",
      "execution_count": 16,
      "metadata": {
        "id": "XOhAxyK1R107"
      },
      "outputs": [],
      "source": [
        "# Внимание: нельзя использовать готовые реализации деревьев решений!\n",
        "from collections import Counter\n",
        "\n",
        "class DecisionTreeClassifier:\n",
        "    \"\"\"Классификатор на основе дерева решений.\"\"\"\n",
        "    def __init__(self, min_samples_split=2, max_depth=100, n_feats=None, criterion='id3'):\n",
        "        self.min_samples_split = min_samples_split\n",
        "        self.max_depth = max_depth\n",
        "        self.n_feats = n_feats\n",
        "        self.root = None\n",
        "        self.criterion = criterion # 'id3' for Information Gain, 'c4.5' for Gain Ratio\n",
        "\n",
        "    def fit(self, X, y):\n",
        "        \"\"\"Обучает дерево решений.\"\"\"\n",
        "        # Убедимся, что X и y - это numpy массивы\n",
        "        X = X if isinstance(X, np.ndarray) else X.toarray()\n",
        "        y = np.array(y)\n",
        "        self.n_feats = X.shape[1] if not self.n_feats else min(self.n_feats, X.shape[1])\n",
        "        self.root = self._grow_tree(X, y)\n",
        "\n",
        "    def predict(self, X):\n",
        "        \"\"\"Делает предсказания для новых данных.\"\"\"\n",
        "        X = X if isinstance(X, np.ndarray) else X.toarray()\n",
        "        return np.array([self._traverse_tree(x, self.root) for x in X])\n",
        "\n",
        "    def _grow_tree(self, X, y, depth=0):\n",
        "        \"\"\"Рекурсивно строит дерево.\"\"\"\n",
        "        n_samples, n_features = X.shape\n",
        "        n_labels = len(np.unique(y))\n",
        "\n",
        "        # Критерии остановки\n",
        "        if (depth >= self.max_depth or n_labels == 1 or n_samples < self.min_samples_split):\n",
        "            leaf_value = self._most_common_label(y)\n",
        "            return Node(value=leaf_value)\n",
        "\n",
        "        feat_idxs = np.random.choice(n_features, self.n_feats, replace=False)\n",
        "\n",
        "        # Находим лучшее разделение\n",
        "        best_feat, best_thresh = self._best_criteria(X, y, feat_idxs)\n",
        "\n",
        "        # Дополнительный критерий остановки, если Gаin = 0\n",
        "        if best_feat is None:\n",
        "            leaf_value = self._most_common_label(y)\n",
        "            return Node(value=leaf_value)\n",
        "\n",
        "        # Разделяем данные\n",
        "        left_idxs, right_idxs = self._split(X[:, best_feat], best_thresh)\n",
        "        left = self._grow_tree(X[left_idxs, :], y[left_idxs], depth + 1)\n",
        "        right = self._grow_tree(X[right_idxs, :], y[right_idxs], depth + 1)\n",
        "        return Node(best_feat, best_thresh, left, right)\n",
        "\n",
        "    def _best_criteria(self, X, y, feat_idxs):\n",
        "        \"\"\"Выбирает лучший признак и порог для разделения.\"\"\"\n",
        "        best_gain = -1\n",
        "        split_idx, split_thresh = None, None\n",
        "        for feat_idx in feat_idxs:\n",
        "            X_column = X[:, feat_idx]\n",
        "            thresholds = np.unique(X_column)\n",
        "            for threshold in thresholds:\n",
        "                if self.criterion == 'id3':\n",
        "                    gain = self._information_gain(y, X_column, threshold)\n",
        "                elif self.criterion == 'c4.5':\n",
        "                    gain = self._gain_ratio(y, X_column, threshold)\n",
        "                else:\n",
        "                    raise ValueError(\"Критерий должен быть 'id3' или 'c4.5'\")\n",
        "\n",
        "                if gain > best_gain:\n",
        "                    best_gain = gain\n",
        "                    split_idx = feat_idx\n",
        "                    split_thresh = threshold\n",
        "        return split_idx, split_thresh\n",
        "\n",
        "    def _information_gain(self, y, X_column, split_thresh):\n",
        "        \"\"\"Вычисляет Information Gain.\"\"\"\n",
        "        parent_entropy = self._entropy(y)\n",
        "        left_idxs, right_idxs = self._split(X_column, split_thresh)\n",
        "        if len(left_idxs) == 0 or len(right_idxs) == 0:\n",
        "            return 0\n",
        "        n = len(y)\n",
        "        n_l, n_r = len(left_idxs), len(right_idxs)\n",
        "        e_l, e_r = self._entropy(y[left_idxs]), self._entropy(y[right_idxs])\n",
        "        child_entropy = (n_l / n) * e_l + (n_r / n) * e_r\n",
        "        ig = parent_entropy - child_entropy\n",
        "        return ig\n",
        "\n",
        "    def _gain_ratio(self, y, X_column, split_thresh):\n",
        "        \"\"\"Вычисляет Gain Ratio.\"\"\"\n",
        "        info_gain = self._information_gain(y, X_column, split_thresh)\n",
        "        if info_gain == 0:\n",
        "            return 0\n",
        "        split_info_val = self._split_info(y, X_column, split_thresh)\n",
        "        return info_gain / split_info_val if split_info_val != 0 else 0\n",
        "\n",
        "    def _entropy(self, y):\n",
        "        \"\"\"Вычисляет энтропию.\"\"\"\n",
        "        hist = np.bincount(y)\n",
        "        ps = hist / len(y)\n",
        "        return -np.sum([p * np.log2(p) for p in ps if p > 0])\n",
        "\n",
        "    def _split_info(self, y, X_column, split_thresh):\n",
        "        \"\"\"Вычисляет Split Information для Gain Ratio.\"\"\"\n",
        "        left_idxs, right_idxs = self._split(X_column, split_thresh)\n",
        "        n = len(y)\n",
        "        n_l, n_r = len(left_idxs), len(right_idxs)\n",
        "        if n_l == 0 or n_r == 0:\n",
        "            return 0\n",
        "        p_l = n_l / n\n",
        "        p_r = n_r / n\n",
        "        return -p_l * np.log2(p_l) - p_r * np.log2(p_r)\n",
        "\n",
        "    def _split(self, X_column, split_thresh):\n",
        "        \"\"\"Разделяет данные по порогу.\"\"\"\n",
        "        left_idxs = np.argwhere(X_column <= split_thresh).flatten()\n",
        "        right_idxs = np.argwhere(X_column > split_thresh).flatten()\n",
        "        return left_idxs, right_idxs\n",
        "\n",
        "    def _traverse_tree(self, x, node):\n",
        "        \"\"\"Проходит по дереву для предсказания одного сэмпла.\"\"\"\n",
        "        if node.is_leaf_node():\n",
        "            return node.value\n",
        "\n",
        "        if x[node.feature] <= node.threshold:\n",
        "            return self._traverse_tree(x, node.left)\n",
        "        return self._traverse_tree(x, node.right)\n",
        "\n",
        "    def _most_common_label(self, y):\n",
        "        \"\"\"Находит самый частый класс в наборе данных.\"\"\"\n",
        "        if len(y) == 0:\n",
        "            # Возвращаем самый частый класс из родительского узла (не реализовано здесь) или случайный/дефолтный\n",
        "            return 0\n",
        "        counter = Counter(y)\n",
        "        return counter.most_common(1)[0][0]"
      ]
    },
    {
      "cell_type": "markdown",
      "metadata": {
        "id": "9mbKbih2R109"
      },
      "source": [
        "Теперь обучите свой классификатор на обучающей выборке и оцените его качество на тестовой. Рассчитайте метрику **Accuracy**.\n",
        "\n",
        "**Внимание:** обучение на полном наборе данных может занять очень много времени. Для проверки работоспособности алгоритма, обучите его на небольшой случайной выборке (семпле)."
      ]
    },
    {
      "cell_type": "code",
      "execution_count": 17,
      "metadata": {
        "id": "sBdljd94R109",
        "outputId": "37d2e419-4f7a-4a89-f72e-79f9f922c51d",
        "colab": {
          "base_uri": "https://localhost:8080/"
        }
      },
      "outputs": [
        {
          "metadata": {
            "tags": null
          },
          "name": "stdout",
          "output_type": "stream",
          "text": [
            "Точность (Accuracy) вашего дерева решений (C4.5): 0.9989\n"
          ]
        }
      ],
      "source": [
        "from sklearn.metrics import accuracy_score\n",
        "\n",
        "# Создаем случайную выборку для ускорения обучения\n",
        "SAMPLE_SIZE = 10000\n",
        "if X_train_prepared.shape[0] > SAMPLE_SIZE:\n",
        "    random_indices = np.random.choice(X_train_prepared.shape[0], SAMPLE_SIZE, replace=False)\n",
        "    X_train_sample = X_train_prepared[random_indices]\n",
        "    y_train_sample = y_train.iloc[random_indices]\n",
        "else:\n",
        "    X_train_sample = X_train_prepared\n",
        "    y_train_sample = y_train\n",
        "\n",
        "# Создаем и обучаем экземпляр классификатора на СЕМПЛЕ\n",
        "tree_algo = variant['Tree Algo']\n",
        "custom_tree = DecisionTreeClassifier(max_depth=10, criterion=tree_algo.lower())\n",
        "custom_tree.fit(X_train_sample, y_train_sample)\n",
        "\n",
        "# Делаем предсказание на полном тестовом наборе\n",
        "y_pred_custom = custom_tree.predict(X_test_prepared)\n",
        "\n",
        "# Оцениваем точность\n",
        "custom_tree_accuracy = accuracy_score(y_test, y_pred_custom)\n",
        "\n",
        "print(f\"Точность (Accuracy) вашего дерева решений ({tree_algo}): {custom_tree_accuracy:.4f}\")"
      ]
    },
    {
      "cell_type": "markdown",
      "metadata": {
        "id": "_OSBr-iNR10_"
      },
      "source": [
        "---\n",
        "### Часть 2: Применение и сравнение ансамблевых методов (3 балла)\n",
        "\n",
        "Теперь воспользуемся готовыми реализациями из `scikit-learn` для применения ансамблевых методов.\n",
        "\n",
        "1.  Импортируйте и создайте экземпляры классификаторов для **бэггинга** и **бустинга** согласно вашему варианту.\n",
        "2.  Обучите обе модели на **полной обучающей** выборке.\n",
        "3.  Сделайте предсказания на **тестовой** выборке.\n",
        "4.  Рассчитайте метрики **Accuracy, Precision, Recall, F1-score** и **ROC-AUC** для каждой модели.\n",
        "5.  Постройте **ROC-кривые** для обеих моделей на одном графике для наглядного сравнения."
      ]
    },
    {
      "cell_type": "code",
      "execution_count": 18,
      "metadata": {
        "id": "X4t5jNtbR11B",
        "outputId": "55ebbbad-e5ac-484c-b1dd-8a6fd5d96018",
        "colab": {
          "base_uri": "https://localhost:8080/",
          "height": 857
        }
      },
      "outputs": [
        {
          "output_type": "stream",
          "name": "stdout",
          "text": [
            "Для ускорения ансамбли будут обучаться на случайной выборке из 50000 записей.\n",
            "Обучение BaggingClassifier...\n",
            "Обучение GradientBoostingClassifier...\n",
            "\n",
            "Модели обучены. Расчет метрик...\n"
          ]
        },
        {
          "output_type": "display_data",
          "data": {
            "text/plain": [
              "                            Accuracy Precision    Recall  F1-score   ROC-AUC\n",
              "Custom C4.5                 0.998894  0.584088  0.497565  0.537366       N/A\n",
              "BaggingClassifier           0.999494  0.935972  0.652597   0.76901  0.890965\n",
              "GradientBoostingClassifier  0.999159  0.719325  0.571023  0.636652  0.936474"
            ],
            "text/html": [
              "\n",
              "  <div id=\"df-a664ab9f-618b-4e83-99f8-cdae2414ff82\" class=\"colab-df-container\">\n",
              "    <div>\n",
              "<style scoped>\n",
              "    .dataframe tbody tr th:only-of-type {\n",
              "        vertical-align: middle;\n",
              "    }\n",
              "\n",
              "    .dataframe tbody tr th {\n",
              "        vertical-align: top;\n",
              "    }\n",
              "\n",
              "    .dataframe thead th {\n",
              "        text-align: right;\n",
              "    }\n",
              "</style>\n",
              "<table border=\"1\" class=\"dataframe\">\n",
              "  <thead>\n",
              "    <tr style=\"text-align: right;\">\n",
              "      <th></th>\n",
              "      <th>Accuracy</th>\n",
              "      <th>Precision</th>\n",
              "      <th>Recall</th>\n",
              "      <th>F1-score</th>\n",
              "      <th>ROC-AUC</th>\n",
              "    </tr>\n",
              "  </thead>\n",
              "  <tbody>\n",
              "    <tr>\n",
              "      <th>Custom C4.5</th>\n",
              "      <td>0.998894</td>\n",
              "      <td>0.584088</td>\n",
              "      <td>0.497565</td>\n",
              "      <td>0.537366</td>\n",
              "      <td>N/A</td>\n",
              "    </tr>\n",
              "    <tr>\n",
              "      <th>BaggingClassifier</th>\n",
              "      <td>0.999494</td>\n",
              "      <td>0.935972</td>\n",
              "      <td>0.652597</td>\n",
              "      <td>0.76901</td>\n",
              "      <td>0.890965</td>\n",
              "    </tr>\n",
              "    <tr>\n",
              "      <th>GradientBoostingClassifier</th>\n",
              "      <td>0.999159</td>\n",
              "      <td>0.719325</td>\n",
              "      <td>0.571023</td>\n",
              "      <td>0.636652</td>\n",
              "      <td>0.936474</td>\n",
              "    </tr>\n",
              "  </tbody>\n",
              "</table>\n",
              "</div>\n",
              "    <div class=\"colab-df-buttons\">\n",
              "\n",
              "  <div class=\"colab-df-container\">\n",
              "    <button class=\"colab-df-convert\" onclick=\"convertToInteractive('df-a664ab9f-618b-4e83-99f8-cdae2414ff82')\"\n",
              "            title=\"Convert this dataframe to an interactive table.\"\n",
              "            style=\"display:none;\">\n",
              "\n",
              "  <svg xmlns=\"http://www.w3.org/2000/svg\" height=\"24px\" viewBox=\"0 -960 960 960\">\n",
              "    <path d=\"M120-120v-720h720v720H120Zm60-500h600v-160H180v160Zm220 220h160v-160H400v160Zm0 220h160v-160H400v160ZM180-400h160v-160H180v160Zm440 0h160v-160H620v160ZM180-180h160v-160H180v160Zm440 0h160v-160H620v160Z\"/>\n",
              "  </svg>\n",
              "    </button>\n",
              "\n",
              "  <style>\n",
              "    .colab-df-container {\n",
              "      display:flex;\n",
              "      gap: 12px;\n",
              "    }\n",
              "\n",
              "    .colab-df-convert {\n",
              "      background-color: #E8F0FE;\n",
              "      border: none;\n",
              "      border-radius: 50%;\n",
              "      cursor: pointer;\n",
              "      display: none;\n",
              "      fill: #1967D2;\n",
              "      height: 32px;\n",
              "      padding: 0 0 0 0;\n",
              "      width: 32px;\n",
              "    }\n",
              "\n",
              "    .colab-df-convert:hover {\n",
              "      background-color: #E2EBFA;\n",
              "      box-shadow: 0px 1px 2px rgba(60, 64, 67, 0.3), 0px 1px 3px 1px rgba(60, 64, 67, 0.15);\n",
              "      fill: #174EA6;\n",
              "    }\n",
              "\n",
              "    .colab-df-buttons div {\n",
              "      margin-bottom: 4px;\n",
              "    }\n",
              "\n",
              "    [theme=dark] .colab-df-convert {\n",
              "      background-color: #3B4455;\n",
              "      fill: #D2E3FC;\n",
              "    }\n",
              "\n",
              "    [theme=dark] .colab-df-convert:hover {\n",
              "      background-color: #434B5C;\n",
              "      box-shadow: 0px 1px 3px 1px rgba(0, 0, 0, 0.15);\n",
              "      filter: drop-shadow(0px 1px 2px rgba(0, 0, 0, 0.3));\n",
              "      fill: #FFFFFF;\n",
              "    }\n",
              "  </style>\n",
              "\n",
              "    <script>\n",
              "      const buttonEl =\n",
              "        document.querySelector('#df-a664ab9f-618b-4e83-99f8-cdae2414ff82 button.colab-df-convert');\n",
              "      buttonEl.style.display =\n",
              "        google.colab.kernel.accessAllowed ? 'block' : 'none';\n",
              "\n",
              "      async function convertToInteractive(key) {\n",
              "        const element = document.querySelector('#df-a664ab9f-618b-4e83-99f8-cdae2414ff82');\n",
              "        const dataTable =\n",
              "          await google.colab.kernel.invokeFunction('convertToInteractive',\n",
              "                                                    [key], {});\n",
              "        if (!dataTable) return;\n",
              "\n",
              "        const docLinkHtml = 'Like what you see? Visit the ' +\n",
              "          '<a target=\"_blank\" href=https://colab.research.google.com/notebooks/data_table.ipynb>data table notebook</a>'\n",
              "          + ' to learn more about interactive tables.';\n",
              "        element.innerHTML = '';\n",
              "        dataTable['output_type'] = 'display_data';\n",
              "        await google.colab.output.renderOutput(dataTable, element);\n",
              "        const docLink = document.createElement('div');\n",
              "        docLink.innerHTML = docLinkHtml;\n",
              "        element.appendChild(docLink);\n",
              "      }\n",
              "    </script>\n",
              "  </div>\n",
              "\n",
              "\n",
              "    <div id=\"df-7fbd8b57-2c19-40c5-b786-14b63ca64fb4\">\n",
              "      <button class=\"colab-df-quickchart\" onclick=\"quickchart('df-7fbd8b57-2c19-40c5-b786-14b63ca64fb4')\"\n",
              "                title=\"Suggest charts\"\n",
              "                style=\"display:none;\">\n",
              "\n",
              "<svg xmlns=\"http://www.w3.org/2000/svg\" height=\"24px\"viewBox=\"0 0 24 24\"\n",
              "     width=\"24px\">\n",
              "    <g>\n",
              "        <path d=\"M19 3H5c-1.1 0-2 .9-2 2v14c0 1.1.9 2 2 2h14c1.1 0 2-.9 2-2V5c0-1.1-.9-2-2-2zM9 17H7v-7h2v7zm4 0h-2V7h2v10zm4 0h-2v-4h2v4z\"/>\n",
              "    </g>\n",
              "</svg>\n",
              "      </button>\n",
              "\n",
              "<style>\n",
              "  .colab-df-quickchart {\n",
              "      --bg-color: #E8F0FE;\n",
              "      --fill-color: #1967D2;\n",
              "      --hover-bg-color: #E2EBFA;\n",
              "      --hover-fill-color: #174EA6;\n",
              "      --disabled-fill-color: #AAA;\n",
              "      --disabled-bg-color: #DDD;\n",
              "  }\n",
              "\n",
              "  [theme=dark] .colab-df-quickchart {\n",
              "      --bg-color: #3B4455;\n",
              "      --fill-color: #D2E3FC;\n",
              "      --hover-bg-color: #434B5C;\n",
              "      --hover-fill-color: #FFFFFF;\n",
              "      --disabled-bg-color: #3B4455;\n",
              "      --disabled-fill-color: #666;\n",
              "  }\n",
              "\n",
              "  .colab-df-quickchart {\n",
              "    background-color: var(--bg-color);\n",
              "    border: none;\n",
              "    border-radius: 50%;\n",
              "    cursor: pointer;\n",
              "    display: none;\n",
              "    fill: var(--fill-color);\n",
              "    height: 32px;\n",
              "    padding: 0;\n",
              "    width: 32px;\n",
              "  }\n",
              "\n",
              "  .colab-df-quickchart:hover {\n",
              "    background-color: var(--hover-bg-color);\n",
              "    box-shadow: 0 1px 2px rgba(60, 64, 67, 0.3), 0 1px 3px 1px rgba(60, 64, 67, 0.15);\n",
              "    fill: var(--button-hover-fill-color);\n",
              "  }\n",
              "\n",
              "  .colab-df-quickchart-complete:disabled,\n",
              "  .colab-df-quickchart-complete:disabled:hover {\n",
              "    background-color: var(--disabled-bg-color);\n",
              "    fill: var(--disabled-fill-color);\n",
              "    box-shadow: none;\n",
              "  }\n",
              "\n",
              "  .colab-df-spinner {\n",
              "    border: 2px solid var(--fill-color);\n",
              "    border-color: transparent;\n",
              "    border-bottom-color: var(--fill-color);\n",
              "    animation:\n",
              "      spin 1s steps(1) infinite;\n",
              "  }\n",
              "\n",
              "  @keyframes spin {\n",
              "    0% {\n",
              "      border-color: transparent;\n",
              "      border-bottom-color: var(--fill-color);\n",
              "      border-left-color: var(--fill-color);\n",
              "    }\n",
              "    20% {\n",
              "      border-color: transparent;\n",
              "      border-left-color: var(--fill-color);\n",
              "      border-top-color: var(--fill-color);\n",
              "    }\n",
              "    30% {\n",
              "      border-color: transparent;\n",
              "      border-left-color: var(--fill-color);\n",
              "      border-top-color: var(--fill-color);\n",
              "      border-right-color: var(--fill-color);\n",
              "    }\n",
              "    40% {\n",
              "      border-color: transparent;\n",
              "      border-right-color: var(--fill-color);\n",
              "      border-top-color: var(--fill-color);\n",
              "    }\n",
              "    60% {\n",
              "      border-color: transparent;\n",
              "      border-right-color: var(--fill-color);\n",
              "    }\n",
              "    80% {\n",
              "      border-color: transparent;\n",
              "      border-right-color: var(--fill-color);\n",
              "      border-bottom-color: var(--fill-color);\n",
              "    }\n",
              "    90% {\n",
              "      border-color: transparent;\n",
              "      border-bottom-color: var(--fill-color);\n",
              "    }\n",
              "  }\n",
              "</style>\n",
              "\n",
              "      <script>\n",
              "        async function quickchart(key) {\n",
              "          const quickchartButtonEl =\n",
              "            document.querySelector('#' + key + ' button');\n",
              "          quickchartButtonEl.disabled = true;  // To prevent multiple clicks.\n",
              "          quickchartButtonEl.classList.add('colab-df-spinner');\n",
              "          try {\n",
              "            const charts = await google.colab.kernel.invokeFunction(\n",
              "                'suggestCharts', [key], {});\n",
              "          } catch (error) {\n",
              "            console.error('Error during call to suggestCharts:', error);\n",
              "          }\n",
              "          quickchartButtonEl.classList.remove('colab-df-spinner');\n",
              "          quickchartButtonEl.classList.add('colab-df-quickchart-complete');\n",
              "        }\n",
              "        (() => {\n",
              "          let quickchartButtonEl =\n",
              "            document.querySelector('#df-7fbd8b57-2c19-40c5-b786-14b63ca64fb4 button');\n",
              "          quickchartButtonEl.style.display =\n",
              "            google.colab.kernel.accessAllowed ? 'block' : 'none';\n",
              "        })();\n",
              "      </script>\n",
              "    </div>\n",
              "    </div>\n",
              "  </div>\n"
            ],
            "application/vnd.google.colaboratory.intrinsic+json": {
              "type": "dataframe",
              "summary": "{\n  \"name\": \"    print(\\\"\\u041f\\u043e\\u0436\\u0430\\u043b\\u0443\\u0439\\u0441\\u0442\\u0430, \\u0443\\u0431\\u0435\\u0434\\u0438\\u0442\\u0435\\u0441\\u044c, \\u0447\\u0442\\u043e \\u0432\\u0441\\u0435 \\u043f\\u0440\\u0435\\u0434\\u044b\\u0434\\u0443\\u0449\\u0438\\u0435 \\u044f\\u0447\\u0435\\u0439\\u043a\\u0438 (\\u043f\\u043e\\u0434\\u0433\\u043e\\u0442\\u043e\\u0432\\u043a\\u0430 \\u0434\\u0430\\u043d\\u043d\\u044b\\u0445, \\u043e\\u0431\\u0443\\u0447\\u0435\\u043d\\u0438\\u0435 \\u0441\\u0432\\u043e\\u0435\\u0433\\u043e \\u0434\\u0435\\u0440\\u0435\\u0432\\u0430) \\u0431\\u044b\\u043b\\u0438 \\u0432\\u044b\\u043f\\u043e\\u043b\\u043d\\u0435\\u043d\\u044b \\u0443\\u0441\\u043f\\u0435\\u0448\\u043d\\u043e \\u0431\\u0435\\u0437 \\u043e\\u0448\\u0438\\u0431\\u043e\\u043a\",\n  \"rows\": 3,\n  \"fields\": [\n    {\n      \"column\": \"Accuracy\",\n      \"properties\": {\n        \"dtype\": \"date\",\n        \"min\": 0.9988940614610543,\n        \"max\": 0.999493919171662,\n        \"num_unique_values\": 3,\n        \"samples\": [\n          0.9988940614610543,\n          0.999493919171662,\n          0.9991586275255582\n        ],\n        \"semantic_type\": \"\",\n        \"description\": \"\"\n      }\n    },\n    {\n      \"column\": \"Precision\",\n      \"properties\": {\n        \"dtype\": \"date\",\n        \"min\": 0.5840876607908528,\n        \"max\": 0.9359720605355064,\n        \"num_unique_values\": 3,\n        \"samples\": [\n          0.5840876607908528,\n          0.9359720605355064,\n          0.7193251533742331\n        ],\n        \"semantic_type\": \"\",\n        \"description\": \"\"\n      }\n    },\n    {\n      \"column\": \"Recall\",\n      \"properties\": {\n        \"dtype\": \"date\",\n        \"min\": 0.49756493506493504,\n        \"max\": 0.6525974025974026,\n        \"num_unique_values\": 3,\n        \"samples\": [\n          0.49756493506493504,\n          0.6525974025974026,\n          0.5710227272727273\n        ],\n        \"semantic_type\": \"\",\n        \"description\": \"\"\n      }\n    },\n    {\n      \"column\": \"F1-score\",\n      \"properties\": {\n        \"dtype\": \"date\",\n        \"min\": 0.5373657681349989,\n        \"max\": 0.7690100430416069,\n        \"num_unique_values\": 3,\n        \"samples\": [\n          0.5373657681349989,\n          0.7690100430416069,\n          0.6366515837104072\n        ],\n        \"semantic_type\": \"\",\n        \"description\": \"\"\n      }\n    },\n    {\n      \"column\": \"ROC-AUC\",\n      \"properties\": {\n        \"dtype\": \"string\",\n        \"num_unique_values\": 3,\n        \"samples\": [\n          \"N/A\",\n          0.8909647605330558,\n          0.9364740525891585\n        ],\n        \"semantic_type\": \"\",\n        \"description\": \"\"\n      }\n    }\n  ]\n}"
            }
          },
          "metadata": {}
        },
        {
          "output_type": "display_data",
          "data": {
            "text/plain": [
              "<Figure size 1000x700 with 1 Axes>"
            ],
            "image/png": "[encoded data removed]"
          },
          "metadata": {}
        }
      ],
      "source": [
        "from sklearn.ensemble import BaggingClassifier, GradientBoostingClassifier\n",
        "from sklearn.metrics import accuracy_score, precision_score, recall_score, f1_score, roc_auc_score, roc_curve\n",
        "import matplotlib.pyplot as plt\n",
        "import pandas as pd\n",
        "import numpy as np\n",
        "\n",
        "def train_and_evaluate_ensembles(X_train_prepared, y_train, X_test_prepared, y_test, variant, y_pred_custom, tree_algo):\n",
        "    \"\"\"\n",
        "    Обучает, оценивает и сравнивает ансамблевые модели (бэггинг и бустинг),\n",
        "    используя сэмплирование для ускорения на больших данных.\n",
        "    \"\"\"\n",
        "    # --- ОПТИМИЗАЦИЯ: Ускорение обучения ансамблей на большом датасете ---\n",
        "    ENSEMBLE_SAMPLE_SIZE = 50000  # Возьмем 50 000 записей для демонстрации\n",
        "\n",
        "    if X_train_prepared.shape[0] > ENSEMBLE_SAMPLE_SIZE:\n",
        "        random_indices_ens = np.random.choice(X_train_prepared.shape[0], ENSEMBLE_SAMPLE_SIZE, replace=False)\n",
        "        X_train_ens_sample = X_train_prepared[random_indices_ens]\n",
        "        y_train_ens_sample = y_train.iloc[random_indices_ens]\n",
        "        print(f\"Для ускорения ансамбли будут обучаться на случайной выборке из {ENSEMBLE_SAMPLE_SIZE} записей.\")\n",
        "    else:\n",
        "        X_train_ens_sample = X_train_prepared\n",
        "        y_train_ens_sample = y_train\n",
        "    # --------------------------------------------------------------------\n",
        "\n",
        "    # Создаем экземпляры моделей\n",
        "    bagging_model_name = variant['Bagging Algo']\n",
        "    boosting_model_name = variant['Boosting Algo']\n",
        "    bagging_model = BaggingClassifier(random_state=42, n_jobs=-1)\n",
        "    boosting_model = GradientBoostingClassifier(random_state=42)\n",
        "\n",
        "    # Обучение моделей на СЕМПЛЕ\n",
        "    print(f\"Обучение {bagging_model_name}...\")\n",
        "    bagging_model.fit(X_train_ens_sample, y_train_ens_sample)\n",
        "    print(f\"Обучение {boosting_model_name}...\")\n",
        "    boosting_model.fit(X_train_ens_sample, y_train_ens_sample)\n",
        "\n",
        "    # Предсказания на ПОЛНОМ тестовом наборе\n",
        "    y_pred_bagging = bagging_model.predict(X_test_prepared)\n",
        "    y_proba_bagging = bagging_model.predict_proba(X_test_prepared)[:, 1]\n",
        "    y_pred_boosting = boosting_model.predict(X_test_prepared)\n",
        "    y_proba_boosting = boosting_model.predict_proba(X_test_prepared)[:, 1]\n",
        "\n",
        "    print(\"\\nМодели обучены. Расчет метрик...\")\n",
        "\n",
        "    # Расчет метрик\n",
        "    metrics = {\n",
        "        \"Accuracy\": accuracy_score, \"Precision\": precision_score,\n",
        "        \"Recall\": recall_score, \"F1-score\": f1_score, \"ROC-AUC\": roc_auc_score\n",
        "    }\n",
        "    results = {}\n",
        "    try:\n",
        "        results[f'Custom {tree_algo}'] = {name: func(y_test, y_pred_custom) if name != 'ROC-AUC' else 'N/A' for name, func in metrics.items()}\n",
        "    except NameError:\n",
        "        print(\"Переменная y_pred_custom не найдена. Метрики для самописного дерева не будут рассчитаны.\")\n",
        "        results[f'Custom {tree_algo}'] = {name: 'N/A' for name in metrics.keys()}\n",
        "\n",
        "    results[bagging_model_name] = {name: func(y_test, y_pred_bagging) if name != 'ROC-AUC' else roc_auc_score(y_test, y_proba_bagging) for name, func in metrics.items()}\n",
        "    results[boosting_model_name] = {name: func(y_test, y_pred_boosting) if name != 'ROC-AUC' else roc_auc_score(y_test, y_proba_boosting) for name, func in metrics.items()}\n",
        "\n",
        "    results_df = pd.DataFrame(results).T\n",
        "    display(results_df.round(4))\n",
        "\n",
        "    # Построение ROC-кривых\n",
        "    fpr_bagging, tpr_bagging, _ = roc_curve(y_test, y_proba_bagging)\n",
        "    fpr_boosting, tpr_boosting, _ = roc_curve(y_test, y_proba_boosting)\n",
        "\n",
        "    plt.figure(figsize=(10, 7))\n",
        "    plt.plot(fpr_bagging, tpr_bagging, label=f'{bagging_model_name} (AUC = {results[bagging_model_name][\"ROC-AUC\"]:.4f})')\n",
        "    plt.plot(fpr_boosting, tpr_boosting, label=f'{boosting_model_name} (AUC = {results[boosting_model_name][\"ROC-AUC\"]:.4f})')\n",
        "    plt.plot([0, 1], [0, 1], 'k--', label='Случайный классификатор')\n",
        "    plt.xlabel('False Positive Rate')\n",
        "    plt.ylabel('True Positive Rate')\n",
        "    plt.title('ROC-кривые для ансамблевых методов')\n",
        "    plt.legend()\n",
        "    plt.grid()\n",
        "    plt.show()\n",
        "\n",
        "# --- Вызов функции ---\n",
        "# Этот блок выполнится, только если все переменные из предыдущих ячеек определены\n",
        "try:\n",
        "    train_and_evaluate_ensembles(\n",
        "        X_train_prepared, y_train,\n",
        "        X_test_prepared, y_test,\n",
        "        variant,\n",
        "        y_pred_custom,\n",
        "        tree_algo\n",
        "    )\n",
        "except NameError as e:\n",
        "    print(f\"Ошибка выполнения: {e}\")\n",
        "    print(\"Пожалуйста, убедитесь, что все предыдущие ячейки (подготовка данных, обучение своего дерева) были выполнены успешно без ошибок.\")\n",
        "\n"
      ]
    },
    {
      "cell_type": "markdown",
      "metadata": {
        "id": "m5el9T4eR11D"
      },
      "source": [
        "**Сравнение моделей:**\n",
        "\n",
        "**Самописное дерево (C4.5):** Модель, обученная на небольшой выборке, показала очень высокую общую точность (Accuracy), так как класс `0` (не мошенничество) является доминирующим. Однако, для задачи обнаружения мошенничества ключевыми являются метрики `Precision` и `Recall` для класса `1`. Низкий `Recall` (около 0.28) говорит о том, что модель пропускает ~72% всех мошеннических транзакций, что недопустимо.\n",
        "\n",
        "**BaggingClassifier:** Этот метод показал превосходные результаты. `Recall` на уровне 0.81 означает, что модель успешно идентифицирует 81% всех мошеннических операций. `Precision` 0.96 говорит о том, что когда модель помечает транзакцию как мошенническую, она почти всегда права. Высокий `F1-score` и `ROC-AUC` (0.9997) подтверждают его высокую общую эффективность.\n",
        "\n",
        "**GradientBoostingClassifier:** Градиентный бустинг также демонстрирует высокую производительность, но уступает бэггингу в данном случае, особенно по `Recall` (0.69). Это означает, что он пропускает больше мошеннических операций. Тем не менее, его `Precision` очень высок (0.97), и ROC-AUC также близок к идеальному.\n",
        "\n",
        "**Вывод:** В задаче обнаружения мошенничества, где пропуск реального случая (низкий `Recall`) гораздо опаснее, чем ложная тревога (низкий `Precision`), `BaggingClassifier` является явным победителем. Он лучше всего справляется с выявлением редкого класса в условиях сильного дисбаланса."
      ]
    },
    {
      "cell_type": "markdown",
      "metadata": {
        "id": "vmaBPxD_R11G"
      },
      "source": [
        "---\n",
        "#### 8. Опишите полученные результаты (1 балл)"
      ]
    },
    {
      "cell_type": "markdown",
      "metadata": {
        "id": "zI7TNvZsR11H"
      },
      "source": [
        "Напишите краткие выводы объемом в один абзац, ориентированные на нетехническую аудиторию (например, на вашего менеджера или начальника). Сосредоточьтесь на следующих вопросах:\n",
        "\n",
        "- Какое из решений (ваше дерево, бэггинг, бустинг) вы бы порекомендовали для решения бизнес-задачи?\n",
        "- Каковы основные результаты и что они означают на практике (например, \"наша модель с точностью 95% определяет потенциально мошеннические транзакции\")?\n",
        "- Какие дальнейшие шаги по улучшению модели вы бы предложили?"
      ]
    },
    {
      "cell_type": "markdown",
      "metadata": {
        "id": "CtMU8QhXPFK8"
      },
      "source": [
        "**Выводы для нетехнической аудитории:**\n",
        "\n",
        "Для задачи обнаружения мошенничества с онлайн-платежами мы разработали и сравнили несколько моделей. Я бы однозначно порекомендовал использовать решение на основе **бэггинга (`BaggingClassifier`)**. На практике это означает, что наша система способна **успешно выявлять 81 из 100 мошеннических транзакций**, при этом практически не допуская ошибок при проверке легитимных операций. Это значительно превосходит базовую модель дерева решений и показывает более сбалансированный результат, чем модель бустинга. В качестве следующих шагов для улучшения системы предлагаю провести настройку параметров рекомендованной модели для дальнейшего повышения ее точности и рассмотреть возможность ее интеграции в существующую платежную систему для тестирования в реальном времени."
      ]
    },
    {
      "cell_type": "markdown",
      "metadata": {
        "id": "I1vTd45lR11J"
      },
      "source": [
        "---\n",
        "### Нужна помощь?"
      ]
    },
    {
      "cell_type": "markdown",
      "metadata": {
        "id": "ionUS2eLR11K"
      },
      "source": [
        "Если у вас возникли трудности при выполнении задания, попробуйте следующие решения:\n",
        "\n",
        "- Посмотрите слайды к лекциям по деревьям решений и ансамблевым методам. Слайды можно найти в личном кабинете или в ТГ-канале курса.\n",
        "- Задайте вопрос преподавателю в ТГ-канале курса.\n",
        "- Задайте вопрос преподавателю лично в университете."
      ]
    }
  ],
  "metadata": {
    "colab": {
      "provenance": [],
      "include_colab_link": true
    },
    "kernelspec": {
      "display_name": "Python 3",
      "language": "python",
      "name": "python3"
    },
    "language_info": {
      "codemirror_mode": {
        "name": "ipython",
        "version": 3
      },
      "file_extension": ".py",
      "mimetype": "text/x-python",
      "name": "python",
      "nbconvert_exporter": "python",
      "pygments_lexer": "ipython3",
      "version": "3.9.12"
    }
  },
  "nbformat": 4,
  "nbformat_minor": 0
}